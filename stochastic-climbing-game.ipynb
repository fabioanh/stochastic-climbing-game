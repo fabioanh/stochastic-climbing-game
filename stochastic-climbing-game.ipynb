{
 "cells": [
  {
   "cell_type": "code",
   "execution_count": 31,
   "metadata": {
    "collapsed": false
   },
   "outputs": [],
   "source": [
    "import numpy as np\n",
    "\n",
    "class Agent(object):\n",
    "    def __init__(self, game_values):\n",
    "        self.game_values = game_values\n",
    "        self.reset()\n",
    "    \n",
    "    def reset(self):\n",
    "        self.actions = np.zeros((3,3)) # count for the action taken\n",
    "        self.values = np.empty((3,3), dtype=object) # values obtained so far -> average\n",
    "    \n",
    "    def get_game_values(self, position_1, position_2):\n",
    "        '''\n",
    "        Obtains a tuple with the values for player 1 and player 2 after each of them choose an\n",
    "        action/position to play. Player 1 is the row player and Player 2 the column one\n",
    "        '''\n",
    "        return (np.random.normal(self.game_values[position_1][position_2][0], self.game_values[position_1][position_2][1]),\n",
    "                np.random.normal(self.game_values[position_1][position_2][0], self.game_values[position_1][position_2][1]))\n",
    "\n",
    "    def play(self):\n",
    "        '''\n",
    "        Defines a step in the game. A set of actions is chosen and the output of the game is\n",
    "        computed according to them.\n",
    "        '''\n",
    "        pos = get_position()\n",
    "        self.values\n",
    "    \n",
    "    def get_position(self):\n",
    "        '''\n",
    "        Gets the position for the following game based on the policy of the agent.\n",
    "        For this base class the policy follows a random choice\n",
    "        '''\n",
    "        return np.random.choice(3), np.random.choice(3)\n",
    "        \n",
    "class BoltzmannJointActionLearner(Agent):\n",
    "    def __init__(self, game_values, t):\n",
    "        super(BoltzmannJointActionLearner, self).__init__(game_values)\n",
    "        self.t = t\n",
    "        \n",
    "    def get_position(self):\n",
    "        '''\n",
    "        Gets the position for the following game based on the policy of the agent.\n",
    "        For this class the decision is taken based on the boltzmann definition\n",
    "        '''\n",
    "        numerator = np.exp(agent.value_estimates / self.t)\n",
    "        denominator = np.sum(numerator)\n",
    "        pdf = numerator / denominator #probability distribution function\n",
    "        return np.random.choice(len(agent.value_estimates), p=pdf)\n",
    "    \n",
    "    "
   ]
  },
  {
   "cell_type": "code",
   "execution_count": 37,
   "metadata": {
    "collapsed": false
   },
   "outputs": [
    {
     "name": "stdout",
     "output_type": "stream",
     "text": [
      "0\n"
     ]
    }
   ],
   "source": [
    "import numpy as np\n",
    "\n",
    "sigma = 0.2\n",
    "sigma0 = 0.2\n",
    "sigma1 = 0.2\n",
    "\n",
    "game_values = [[(11, sigma0), (-30, sigma), (0, sigma)],\n",
    "              [(-30, sigma), (7, sigma1), (6, sigma)],\n",
    "              [(0, sigma), (0, sigma), (5, sigma)]]\n",
    "\n",
    "ag = Agent(game_values)\n",
    "\n",
    "#val = ag.get_game_values(1,1)\n",
    "print(np.random.choice(3))\n",
    "\n"
   ]
  }
 ],
 "metadata": {
  "kernelspec": {
   "display_name": "Python 3",
   "language": "python",
   "name": "python3"
  },
  "language_info": {
   "codemirror_mode": {
    "name": "ipython",
    "version": 3
   },
   "file_extension": ".py",
   "mimetype": "text/x-python",
   "name": "python",
   "nbconvert_exporter": "python",
   "pygments_lexer": "ipython3",
   "version": "3.4.5"
  }
 },
 "nbformat": 4,
 "nbformat_minor": 1
}
