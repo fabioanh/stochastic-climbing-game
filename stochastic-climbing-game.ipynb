{
 "cells": [
  {
   "cell_type": "markdown",
   "metadata": {},
   "source": [
    "### Agent\n",
    "Definition of the agent class which contains the history of the values and the methods to select a position for the game and play it."
   ]
  },
  {
   "cell_type": "code",
   "execution_count": 31,
   "metadata": {
    "collapsed": false
   },
   "outputs": [],
   "source": [
    "import numpy as np\n",
    "\n",
    "class Agent(object):\n",
    "    def __init__(self, game_values):\n",
    "        self.game_values = game_values\n",
    "        self.reset()\n",
    "    \n",
    "    def reset(self):\n",
    "        self.actions_count = np.zeros(9) # count for the action taken\n",
    "        self.values = np.empty(9, dtype=object) # values obtained so far -> average\n",
    "    \n",
    "    def get_game_values(self, position_1, position_2):\n",
    "        '''\n",
    "        Obtains a tuple with the values for player 1 and player 2 after each of them choose an\n",
    "        action/position to play. Player 1 is the row player and Player 2 the column one\n",
    "        '''\n",
    "        return (np.random.normal(self.game_values[position_1][position_2][0], self.game_values[position_1][position_2][1]),\n",
    "                np.random.normal(self.game_values[position_1][position_2][0], self.game_values[position_1][position_2][1]))\n",
    "\n",
    "    def get_game_value(self, position_1, position_2):\n",
    "        '''\n",
    "        Obtains a single value with the average of the values obtained for player 1 and player 2 \n",
    "        after each of them choose an action/position to play.\n",
    "        Player 1 is the row player and Player 2 the column one\n",
    "        '''\n",
    "        val = self.get_game_values(position_1, position_2)\n",
    "        return (val[0] + val[1]) / 2\n",
    "\n",
    "    def play(self):\n",
    "        '''\n",
    "        Defines a step in the game. A set of actions is chosen and the output of the game is\n",
    "        computed according to them.\n",
    "        '''\n",
    "        pos = self.get_position()\n",
    "        value = self.get_game_value(pos[0], pos[1])\n",
    "        \n",
    "        \n",
    "        self.values[pos[2]] = (self.values[pos[2]] * self.actions_count[pos[2]] + value) / (self.actions_count[pos[2]] + 1)\n",
    "        self.actions_count[pos[2]] += 1\n",
    "    \n",
    "    def get_position(self):\n",
    "        '''\n",
    "        Gets the position for the following game based on the policy of the agent.\n",
    "        For this base class the policy follows a random choice\n",
    "        '''\n",
    "        row = np.random.choice(3)\n",
    "        col = np.random.choice(3)\n",
    "        return row, col, row * 3 + col \n",
    "        \n",
    "class BoltzmannJointActionLearner(Agent):\n",
    "    def __init__(self, game_values, t):\n",
    "        super(BoltzmannJointActionLearner, self).__init__(game_values)\n",
    "        self.t = t\n",
    "        \n",
    "    def get_position(self):\n",
    "        '''\n",
    "        Gets the position for the following game based on the policy of the agent.\n",
    "        For this class the decision is taken based on the boltzmann definition\n",
    "        '''\n",
    "        numerator = np.exp(self.values / self.t)\n",
    "        denominator = np.sum(numerator)\n",
    "        pdf = numerator / denominator #probability distribution function\n",
    "        pos = np.random.choice(len(self.values), p=pdf)\n",
    "        return pos / 3, pos % 3, pos\n",
    "    \n"
   ]
  },
  {
   "cell_type": "code",
   "execution_count": 37,
   "metadata": {
    "collapsed": false
   },
   "outputs": [
    {
     "name": "stdout",
     "output_type": "stream",
     "text": [
      "0\n"
     ]
    }
   ],
   "source": [
    "import numpy as np\n",
    "\n",
    "sigma = 0.2\n",
    "sigma0 = 0.2\n",
    "sigma1 = 0.2\n",
    "\n",
    "game_values = [[(11, sigma0), (-30, sigma), (0, sigma)],\n",
    "              [(-30, sigma), (7, sigma1), (6, sigma)],\n",
    "              [(0, sigma), (0, sigma), (5, sigma)]]\n",
    "\n",
    "ag = Agent(game_values)\n",
    "\n",
    "#val = ag.get_game_values(1,1)\n",
    "print(np.random.choice(3))\n",
    "\n"
   ]
  }
 ],
 "metadata": {
  "kernelspec": {
   "display_name": "Python 3",
   "language": "python",
   "name": "python3"
  },
  "language_info": {
   "codemirror_mode": {
    "name": "ipython",
    "version": 3
   },
   "file_extension": ".py",
   "mimetype": "text/x-python",
   "name": "python",
   "nbconvert_exporter": "python",
   "pygments_lexer": "ipython3",
   "version": "3.5.1"
  }
 },
 "nbformat": 4,
 "nbformat_minor": 1
}
